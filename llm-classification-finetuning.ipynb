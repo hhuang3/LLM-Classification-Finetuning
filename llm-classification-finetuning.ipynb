{
 "cells": [
  {
   "cell_type": "code",
   "execution_count": 1,
   "id": "c7257823",
   "metadata": {
    "_cell_guid": "b1076dfc-b9ad-4769-8c92-a6c4dae69d19",
    "_uuid": "8f2839f25d086af736a60e9eeb907d3b93b6e0e5",
    "execution": {
     "iopub.execute_input": "2025-07-15T05:19:49.294908Z",
     "iopub.status.busy": "2025-07-15T05:19:49.294613Z",
     "iopub.status.idle": "2025-07-15T05:20:06.481887Z",
     "shell.execute_reply": "2025-07-15T05:20:06.481149Z"
    },
    "papermill": {
     "duration": 17.193481,
     "end_time": "2025-07-15T05:20:06.483358",
     "exception": false,
     "start_time": "2025-07-15T05:19:49.289877",
     "status": "completed"
    },
    "tags": []
   },
   "outputs": [
    {
     "name": "stderr",
     "output_type": "stream",
     "text": [
      "2025-07-15 05:19:53.803094: E external/local_xla/xla/stream_executor/cuda/cuda_fft.cc:477] Unable to register cuFFT factory: Attempting to register factory for plugin cuFFT when one has already been registered\n",
      "WARNING: All log messages before absl::InitializeLog() is called are written to STDERR\n",
      "E0000 00:00:1752556794.007352      19 cuda_dnn.cc:8310] Unable to register cuDNN factory: Attempting to register factory for plugin cuDNN when one has already been registered\n",
      "E0000 00:00:1752556794.060460      19 cuda_blas.cc:1418] Unable to register cuBLAS factory: Attempting to register factory for plugin cuBLAS when one has already been registered\n"
     ]
    }
   ],
   "source": [
    "import pandas as pd\n",
    "import numpy as np\n",
    "import ast\n",
    "\n",
    "from sklearn.linear_model import LogisticRegression\n",
    "from sklearn.metrics import classification_report\n",
    "from sklearn.model_selection import train_test_split\n",
    "from sklearn.metrics import accuracy_score\n",
    "\n",
    "\n",
    "import tensorflow as tf\n",
    "import keras_nlp\n",
    "\n",
    "from tqdm import tqdm\n"
   ]
  },
  {
   "cell_type": "markdown",
   "id": "af93da97",
   "metadata": {
    "papermill": {
     "duration": 0.00287,
     "end_time": "2025-07-15T05:20:06.489915",
     "exception": false,
     "start_time": "2025-07-15T05:20:06.487045",
     "status": "completed"
    },
    "tags": []
   },
   "source": [
    "## Configuration"
   ]
  },
  {
   "cell_type": "code",
   "execution_count": 2,
   "id": "c792def8",
   "metadata": {
    "execution": {
     "iopub.execute_input": "2025-07-15T05:20:06.497378Z",
     "iopub.status.busy": "2025-07-15T05:20:06.496461Z",
     "iopub.status.idle": "2025-07-15T05:20:06.501044Z",
     "shell.execute_reply": "2025-07-15T05:20:06.500475Z"
    },
    "papermill": {
     "duration": 0.009327,
     "end_time": "2025-07-15T05:20:06.502145",
     "exception": false,
     "start_time": "2025-07-15T05:20:06.492818",
     "status": "completed"
    },
    "tags": []
   },
   "outputs": [],
   "source": [
    "class CFG:\n",
    "    preset = \"deberta_v3_base_en\"\n",
    "    sequence_length = 512\n",
    "    seed = 42\n",
    "    label2name = {0: 'winner_model_a', 1: 'winner_model_b', 2: 'winner_tie'}\n",
    "    name2label = {v:k for k, v in label2name.items()}\n",
    "    class_labels = list(label2name.keys())\n",
    "    class_names = list(label2name.values())\n",
    "\n",
    "\n"
   ]
  },
  {
   "cell_type": "markdown",
   "id": "7eda185f",
   "metadata": {
    "papermill": {
     "duration": 0.00272,
     "end_time": "2025-07-15T05:20:06.507820",
     "exception": false,
     "start_time": "2025-07-15T05:20:06.505100",
     "status": "completed"
    },
    "tags": []
   },
   "source": [
    "## Load & Preprocess Dat\n"
   ]
  },
  {
   "cell_type": "code",
   "execution_count": 3,
   "id": "51c92779",
   "metadata": {
    "execution": {
     "iopub.execute_input": "2025-07-15T05:20:06.514232Z",
     "iopub.status.busy": "2025-07-15T05:20:06.513999Z",
     "iopub.status.idle": "2025-07-15T05:20:14.511706Z",
     "shell.execute_reply": "2025-07-15T05:20:14.511097Z"
    },
    "papermill": {
     "duration": 8.002526,
     "end_time": "2025-07-15T05:20:14.513071",
     "exception": false,
     "start_time": "2025-07-15T05:20:06.510545",
     "status": "completed"
    },
    "tags": []
   },
   "outputs": [],
   "source": [
    "train_df = pd.read_csv(\"/kaggle/input/llm-classification-finetuning/train.csv\")\n",
    "test_df = pd.read_csv(\"/kaggle/input/llm-classification-finetuning/test.csv\")\n",
    "\n",
    "## trainning data\n",
    "train_df[\"prompt\"] = train_df.prompt.map(lambda x: eval(x)[0])\n",
    "train_df[\"response_a\"] = train_df.response_a.map(lambda x: eval(x.replace(\"null\",\"''\"))[0])\n",
    "train_df[\"response_b\"] = train_df.response_b.map(lambda x: eval(x.replace(\"null\", \"''\"))[0])\n",
    "\n",
    "# Label conversion\n",
    "train_df[\"class_name\"] = train_df[[\"winner_model_a\", \"winner_model_b\" , \"winner_tie\"]].idxmax(axis=1)\n",
    "train_df[\"class_label\"] = train_df.class_name.map(CFG.name2label)\n",
    "\n",
    "## testing data\n",
    "test_df[\"prompt\"] = test_df.prompt.map(lambda x: eval(x)[0])\n",
    "test_df[\"response_a\"] = test_df.response_a.map(lambda x: eval(x.replace(\"null\",\"''\"))[0])\n",
    "test_df[\"response_b\"] = test_df.response_b.map(lambda x: eval(x.replace(\"null\", \"''\"))[0])\n"
   ]
  },
  {
   "cell_type": "code",
   "execution_count": 4,
   "id": "7d2b6267",
   "metadata": {
    "execution": {
     "iopub.execute_input": "2025-07-15T05:20:14.520321Z",
     "iopub.status.busy": "2025-07-15T05:20:14.519928Z",
     "iopub.status.idle": "2025-07-15T05:20:59.724736Z",
     "shell.execute_reply": "2025-07-15T05:20:59.724020Z"
    },
    "papermill": {
     "duration": 45.212756,
     "end_time": "2025-07-15T05:20:59.729056",
     "exception": false,
     "start_time": "2025-07-15T05:20:14.516300",
     "status": "completed"
    },
    "tags": []
   },
   "outputs": [
    {
     "data": {
      "text/html": [
       "<div>\n",
       "<style scoped>\n",
       "    .dataframe tbody tr th:only-of-type {\n",
       "        vertical-align: middle;\n",
       "    }\n",
       "\n",
       "    .dataframe tbody tr th {\n",
       "        vertical-align: top;\n",
       "    }\n",
       "\n",
       "    .dataframe thead th {\n",
       "        text-align: right;\n",
       "    }\n",
       "</style>\n",
       "<table border=\"1\" class=\"dataframe\">\n",
       "  <thead>\n",
       "    <tr style=\"text-align: right;\">\n",
       "      <th></th>\n",
       "      <th>id</th>\n",
       "      <th>model_a</th>\n",
       "      <th>model_b</th>\n",
       "      <th>prompt</th>\n",
       "      <th>response_a</th>\n",
       "      <th>response_b</th>\n",
       "      <th>winner_model_a</th>\n",
       "      <th>winner_model_b</th>\n",
       "      <th>winner_tie</th>\n",
       "      <th>class_name</th>\n",
       "      <th>class_label</th>\n",
       "      <th>encode_fail</th>\n",
       "      <th>options</th>\n",
       "    </tr>\n",
       "  </thead>\n",
       "  <tbody>\n",
       "    <tr>\n",
       "      <th>0</th>\n",
       "      <td>30192</td>\n",
       "      <td>gpt-4-1106-preview</td>\n",
       "      <td>gpt-4-0613</td>\n",
       "      <td>Is it morally right to try to have a certain p...</td>\n",
       "      <td>The question of whether it is morally right to...</td>\n",
       "      <td>As an AI, I don't have personal beliefs or opi...</td>\n",
       "      <td>1</td>\n",
       "      <td>0</td>\n",
       "      <td>0</td>\n",
       "      <td>winner_model_a</td>\n",
       "      <td>0</td>\n",
       "      <td>False</td>\n",
       "      <td>[Prompt: Is it morally right to try to have a ...</td>\n",
       "    </tr>\n",
       "    <tr>\n",
       "      <th>1</th>\n",
       "      <td>53567</td>\n",
       "      <td>koala-13b</td>\n",
       "      <td>gpt-4-0613</td>\n",
       "      <td>What is the difference between marriage licens...</td>\n",
       "      <td>A marriage license is a legal document that al...</td>\n",
       "      <td>A marriage license and a marriage certificate ...</td>\n",
       "      <td>0</td>\n",
       "      <td>1</td>\n",
       "      <td>0</td>\n",
       "      <td>winner_model_b</td>\n",
       "      <td>1</td>\n",
       "      <td>False</td>\n",
       "      <td>[Prompt: What is the difference between marria...</td>\n",
       "    </tr>\n",
       "  </tbody>\n",
       "</table>\n",
       "</div>"
      ],
      "text/plain": [
       "      id             model_a     model_b  \\\n",
       "0  30192  gpt-4-1106-preview  gpt-4-0613   \n",
       "1  53567           koala-13b  gpt-4-0613   \n",
       "\n",
       "                                              prompt  \\\n",
       "0  Is it morally right to try to have a certain p...   \n",
       "1  What is the difference between marriage licens...   \n",
       "\n",
       "                                          response_a  \\\n",
       "0  The question of whether it is morally right to...   \n",
       "1  A marriage license is a legal document that al...   \n",
       "\n",
       "                                          response_b  winner_model_a  \\\n",
       "0  As an AI, I don't have personal beliefs or opi...               1   \n",
       "1  A marriage license and a marriage certificate ...               0   \n",
       "\n",
       "   winner_model_b  winner_tie      class_name  class_label  encode_fail  \\\n",
       "0               0           0  winner_model_a            0        False   \n",
       "1               1           0  winner_model_b            1        False   \n",
       "\n",
       "                                             options  \n",
       "0  [Prompt: Is it morally right to try to have a ...  \n",
       "1  [Prompt: What is the difference between marria...  "
      ]
     },
     "metadata": {},
     "output_type": "display_data"
    },
    {
     "data": {
      "text/html": [
       "<div>\n",
       "<style scoped>\n",
       "    .dataframe tbody tr th:only-of-type {\n",
       "        vertical-align: middle;\n",
       "    }\n",
       "\n",
       "    .dataframe tbody tr th {\n",
       "        vertical-align: top;\n",
       "    }\n",
       "\n",
       "    .dataframe thead th {\n",
       "        text-align: right;\n",
       "    }\n",
       "</style>\n",
       "<table border=\"1\" class=\"dataframe\">\n",
       "  <thead>\n",
       "    <tr style=\"text-align: right;\">\n",
       "      <th></th>\n",
       "      <th>id</th>\n",
       "      <th>prompt</th>\n",
       "      <th>response_a</th>\n",
       "      <th>response_b</th>\n",
       "      <th>encode_fail</th>\n",
       "      <th>options</th>\n",
       "    </tr>\n",
       "  </thead>\n",
       "  <tbody>\n",
       "    <tr>\n",
       "      <th>0</th>\n",
       "      <td>136060</td>\n",
       "      <td>I have three oranges today, I ate an orange ye...</td>\n",
       "      <td>You have two oranges today.</td>\n",
       "      <td>You still have three oranges. Eating an orange...</td>\n",
       "      <td>False</td>\n",
       "      <td>[Prompt: I have three oranges today, I ate an ...</td>\n",
       "    </tr>\n",
       "    <tr>\n",
       "      <th>1</th>\n",
       "      <td>211333</td>\n",
       "      <td>You are a mediator in a heated political debat...</td>\n",
       "      <td>Thank you for sharing the details of the situa...</td>\n",
       "      <td>Mr Reddy and Ms Blue both have valid points in...</td>\n",
       "      <td>False</td>\n",
       "      <td>[Prompt: You are a mediator in a heated politi...</td>\n",
       "    </tr>\n",
       "  </tbody>\n",
       "</table>\n",
       "</div>"
      ],
      "text/plain": [
       "       id                                             prompt  \\\n",
       "0  136060  I have three oranges today, I ate an orange ye...   \n",
       "1  211333  You are a mediator in a heated political debat...   \n",
       "\n",
       "                                          response_a  \\\n",
       "0                        You have two oranges today.   \n",
       "1  Thank you for sharing the details of the situa...   \n",
       "\n",
       "                                          response_b  encode_fail  \\\n",
       "0  You still have three oranges. Eating an orange...        False   \n",
       "1  Mr Reddy and Ms Blue both have valid points in...        False   \n",
       "\n",
       "                                             options  \n",
       "0  [Prompt: I have three oranges today, I ate an ...  \n",
       "1  [Prompt: You are a mediator in a heated politi...  "
      ]
     },
     "metadata": {},
     "output_type": "display_data"
    }
   ],
   "source": [
    "def make_pairs(row):\n",
    "    row[\"encode_fail\"] = False\n",
    "    try:\n",
    "        prompt = row.prompt.encode(\"utf-8\").decode(\"utf-8\")\n",
    "    except:\n",
    "        prompt = \"\"\n",
    "        row[\"encode_fail\"] = True\n",
    "\n",
    "    try:\n",
    "        response_a = row.response_a.encode(\"utf-8\").decode(\"utf-8\")\n",
    "    except:\n",
    "        response_a = \"\"\n",
    "        row[\"encode_fail\"] = True\n",
    "\n",
    "    try:\n",
    "        response_b = row.response_b.encode(\"utf-8\").decode(\"utf-8\")\n",
    "    except:\n",
    "        response_b = \"\"\n",
    "        row[\"encode_fail\"] = True\n",
    "        \n",
    "    row['options'] = [f\"Prompt: {prompt}\\n\\nResponse: {response_a}\",  # Response from Model A\n",
    "                      f\"Prompt: {prompt}\\n\\nResponse: {response_b}\"  # Response from Model B\n",
    "                     ]\n",
    "    return row\n",
    "\n",
    "\n",
    "train_df = train_df.apply(make_pairs, axis=1)  \n",
    "display(train_df.head(2))  \n",
    "\n",
    "test_df = test_df.apply(make_pairs, axis=1) \n",
    "display(test_df.head(2))"
   ]
  },
  {
   "cell_type": "markdown",
   "id": "04f28acc",
   "metadata": {
    "papermill": {
     "duration": 0.002974,
     "end_time": "2025-07-15T05:20:59.735229",
     "exception": false,
     "start_time": "2025-07-15T05:20:59.732255",
     "status": "completed"
    },
    "tags": []
   },
   "source": [
    "## Load Model"
   ]
  },
  {
   "cell_type": "code",
   "execution_count": 5,
   "id": "4b14a3fd",
   "metadata": {
    "execution": {
     "iopub.execute_input": "2025-07-15T05:20:59.743169Z",
     "iopub.status.busy": "2025-07-15T05:20:59.742920Z",
     "iopub.status.idle": "2025-07-15T05:21:10.676889Z",
     "shell.execute_reply": "2025-07-15T05:21:10.676206Z"
    },
    "papermill": {
     "duration": 10.939161,
     "end_time": "2025-07-15T05:21:10.678315",
     "exception": false,
     "start_time": "2025-07-15T05:20:59.739154",
     "status": "completed"
    },
    "tags": []
   },
   "outputs": [
    {
     "name": "stderr",
     "output_type": "stream",
     "text": [
      "I0000 00:00:1752556861.258113      19 gpu_device.cc:2022] Created device /job:localhost/replica:0/task:0/device:GPU:0 with 15513 MB memory:  -> device: 0, name: Tesla P100-PCIE-16GB, pci bus id: 0000:00:04.0, compute capability: 6.0\n"
     ]
    }
   ],
   "source": [
    "backbone = keras_nlp.models.DebertaV3Backbone.from_preset(CFG.preset)\n",
    "preprocessor = keras_nlp.models.DebertaV3Preprocessor.from_preset(\n",
    "    CFG.preset, sequence_length=CFG.sequence_length\n",
    ")\n"
   ]
  },
  {
   "cell_type": "markdown",
   "id": "76701e03",
   "metadata": {
    "papermill": {
     "duration": 0.00305,
     "end_time": "2025-07-15T05:21:10.684880",
     "exception": false,
     "start_time": "2025-07-15T05:21:10.681830",
     "status": "completed"
    },
    "tags": []
   },
   "source": [
    "## Embedding Extraction Function"
   ]
  },
  {
   "cell_type": "code",
   "execution_count": 6,
   "id": "4e1d3958",
   "metadata": {
    "execution": {
     "iopub.execute_input": "2025-07-15T05:21:10.691964Z",
     "iopub.status.busy": "2025-07-15T05:21:10.691719Z",
     "iopub.status.idle": "2025-07-15T05:21:10.696064Z",
     "shell.execute_reply": "2025-07-15T05:21:10.695510Z"
    },
    "papermill": {
     "duration": 0.009353,
     "end_time": "2025-07-15T05:21:10.697297",
     "exception": false,
     "start_time": "2025-07-15T05:21:10.687944",
     "status": "completed"
    },
    "tags": []
   },
   "outputs": [],
   "source": [
    "def extract_cls_embeddings(text_list, batch_size=32):\n",
    "    embeddings = []\n",
    "    for i in tqdm(range(0, len(text_list), batch_size)):\n",
    "        batch = text_list[i:i + batch_size]\n",
    "        processed = preprocessor(batch)\n",
    "        output = backbone(processed)  # shape: (batch, seq_len, hidden_dim)\n",
    "        cls_vecs = output[:, 0, :]    # shape: (batch, hidden_dim)\n",
    "        embeddings.append(cls_vecs.numpy())\n",
    "    return np.vstack(embeddings)     # shape: (total_samples, hidden_dim)"
   ]
  },
  {
   "cell_type": "markdown",
   "id": "a317f7c0",
   "metadata": {
    "papermill": {
     "duration": 0.002921,
     "end_time": "2025-07-15T05:21:10.703457",
     "exception": false,
     "start_time": "2025-07-15T05:21:10.700536",
     "status": "completed"
    },
    "tags": []
   },
   "source": [
    "## Generate Features"
   ]
  },
  {
   "cell_type": "code",
   "execution_count": 7,
   "id": "22b0d49f",
   "metadata": {
    "execution": {
     "iopub.execute_input": "2025-07-15T05:21:10.710714Z",
     "iopub.status.busy": "2025-07-15T05:21:10.710479Z",
     "iopub.status.idle": "2025-07-15T06:35:06.585564Z",
     "shell.execute_reply": "2025-07-15T06:35:06.584529Z"
    },
    "papermill": {
     "duration": 4435.880221,
     "end_time": "2025-07-15T06:35:06.586924",
     "exception": false,
     "start_time": "2025-07-15T05:21:10.706703",
     "status": "completed"
    },
    "tags": []
   },
   "outputs": [
    {
     "name": "stderr",
     "output_type": "stream",
     "text": [
      "100%|██████████| 1797/1797 [36:48<00:00,  1.23s/it]\n",
      "100%|██████████| 1797/1797 [37:07<00:00,  1.24s/it]\n"
     ]
    }
   ],
   "source": [
    "# Extract embeddings for both responses\n",
    "emb_a = extract_cls_embeddings(train_df[\"options\"].map(lambda x: x[0]).tolist())\n",
    "emb_b = extract_cls_embeddings(train_df[\"options\"].map(lambda x: x[1]).tolist())\n",
    "\n"
   ]
  },
  {
   "cell_type": "code",
   "execution_count": 8,
   "id": "bfd3b2f2",
   "metadata": {
    "execution": {
     "iopub.execute_input": "2025-07-15T06:35:06.895709Z",
     "iopub.status.busy": "2025-07-15T06:35:06.895397Z",
     "iopub.status.idle": "2025-07-15T06:35:07.279597Z",
     "shell.execute_reply": "2025-07-15T06:35:07.278927Z"
    },
    "papermill": {
     "duration": 0.54201,
     "end_time": "2025-07-15T06:35:07.281063",
     "exception": false,
     "start_time": "2025-07-15T06:35:06.739053",
     "status": "completed"
    },
    "tags": []
   },
   "outputs": [],
   "source": [
    "# Concatenate\n",
    "X_train = np.concatenate([emb_a, emb_b, emb_a - emb_b, emb_a * emb_b], axis=1)\n",
    "y_train = train_df[\"class_label\"].values\n"
   ]
  },
  {
   "cell_type": "code",
   "execution_count": 9,
   "id": "61dc3a4f",
   "metadata": {
    "execution": {
     "iopub.execute_input": "2025-07-15T06:35:07.578355Z",
     "iopub.status.busy": "2025-07-15T06:35:07.577595Z",
     "iopub.status.idle": "2025-07-15T06:35:07.581961Z",
     "shell.execute_reply": "2025-07-15T06:35:07.581110Z"
    },
    "papermill": {
     "duration": 0.15313,
     "end_time": "2025-07-15T06:35:07.583215",
     "exception": false,
     "start_time": "2025-07-15T06:35:07.430085",
     "status": "completed"
    },
    "tags": []
   },
   "outputs": [
    {
     "name": "stdout",
     "output_type": "stream",
     "text": [
      "X_train shape: (57477, 3072)\n",
      "y_train shape: (57477,)\n"
     ]
    }
   ],
   "source": [
    "# Check shape\n",
    "print(\"X_train shape:\", X_train.shape)\n",
    "print(\"y_train shape:\", y_train.shape)\n"
   ]
  },
  {
   "cell_type": "markdown",
   "id": "9e678506",
   "metadata": {
    "papermill": {
     "duration": 0.147553,
     "end_time": "2025-07-15T06:35:07.876008",
     "exception": false,
     "start_time": "2025-07-15T06:35:07.728455",
     "status": "completed"
    },
    "tags": []
   },
   "source": [
    "## Train Logistic Regression"
   ]
  },
  {
   "cell_type": "code",
   "execution_count": 10,
   "id": "3debe3af",
   "metadata": {
    "execution": {
     "iopub.execute_input": "2025-07-15T06:35:08.254936Z",
     "iopub.status.busy": "2025-07-15T06:35:08.254626Z",
     "iopub.status.idle": "2025-07-15T07:44:09.267145Z",
     "shell.execute_reply": "2025-07-15T07:44:09.266342Z"
    },
    "papermill": {
     "duration": 4141.312653,
     "end_time": "2025-07-15T07:44:09.412945",
     "exception": false,
     "start_time": "2025-07-15T06:35:08.100292",
     "status": "completed"
    },
    "tags": []
   },
   "outputs": [
    {
     "name": "stdout",
     "output_type": "stream",
     "text": [
      "Accuracy: 0.47390396659707723\n",
      "              precision    recall  f1-score   support\n",
      "\n",
      "      A wins       0.50      0.49      0.50      4030\n",
      "      B wins       0.50      0.49      0.50      3929\n",
      "         Tie       0.42      0.44      0.43      3537\n",
      "\n",
      "    accuracy                           0.47     11496\n",
      "   macro avg       0.47      0.47      0.47     11496\n",
      "weighted avg       0.47      0.47      0.47     11496\n",
      "\n"
     ]
    }
   ],
   "source": [
    "X_train, X_val, y_train, y_val = train_test_split(X_train, y_train, test_size=0.2, random_state=CFG.seed)\n",
    "\n",
    "clf = LogisticRegression(\n",
    "    C=0.5,  \n",
    "    class_weight='balanced',  \n",
    "    solver='saga',\n",
    "    penalty='l2',\n",
    "    max_iter=3000\n",
    ")\n",
    "\n",
    "clf.fit(X_train, y_train)\n",
    "\n",
    "y_pred = clf.predict(X_val)\n",
    "print(\"Accuracy:\", accuracy_score(y_val, y_pred))\n",
    "print(classification_report(y_val, y_pred, target_names=[\"A wins\", \"B wins\", \"Tie\"]))\n"
   ]
  },
  {
   "cell_type": "code",
   "execution_count": 11,
   "id": "9a46a1fd",
   "metadata": {
    "execution": {
     "iopub.execute_input": "2025-07-15T07:44:09.700248Z",
     "iopub.status.busy": "2025-07-15T07:44:09.699486Z",
     "iopub.status.idle": "2025-07-15T07:44:10.447271Z",
     "shell.execute_reply": "2025-07-15T07:44:10.446459Z"
    },
    "papermill": {
     "duration": 0.892243,
     "end_time": "2025-07-15T07:44:10.448403",
     "exception": false,
     "start_time": "2025-07-15T07:44:09.556160",
     "status": "completed"
    },
    "tags": []
   },
   "outputs": [
    {
     "name": "stderr",
     "output_type": "stream",
     "text": [
      "100%|██████████| 1/1 [00:00<00:00,  2.71it/s]\n",
      "100%|██████████| 1/1 [00:00<00:00,  2.71it/s]\n"
     ]
    }
   ],
   "source": [
    "test_emb_a = extract_cls_embeddings(test_df[\"options\"].map(lambda x: x[0]).tolist())\n",
    "test_emb_b = extract_cls_embeddings(test_df[\"options\"].map(lambda x: x[1]).tolist())\n",
    "\n",
    "X_test = np.concatenate([\n",
    "    test_emb_a, \n",
    "    test_emb_b, \n",
    "    test_emb_a - test_emb_b, \n",
    "    test_emb_a * test_emb_b\n",
    "], axis=1)"
   ]
  },
  {
   "cell_type": "code",
   "execution_count": 12,
   "id": "689e19c8",
   "metadata": {
    "execution": {
     "iopub.execute_input": "2025-07-15T07:44:10.836694Z",
     "iopub.status.busy": "2025-07-15T07:44:10.836397Z",
     "iopub.status.idle": "2025-07-15T07:44:10.840286Z",
     "shell.execute_reply": "2025-07-15T07:44:10.839750Z"
    },
    "papermill": {
     "duration": 0.149186,
     "end_time": "2025-07-15T07:44:10.841270",
     "exception": false,
     "start_time": "2025-07-15T07:44:10.692084",
     "status": "completed"
    },
    "tags": []
   },
   "outputs": [],
   "source": [
    "test_preds = clf.predict(X_test)\n"
   ]
  },
  {
   "cell_type": "code",
   "execution_count": 13,
   "id": "593afffe",
   "metadata": {
    "execution": {
     "iopub.execute_input": "2025-07-15T07:44:11.129397Z",
     "iopub.status.busy": "2025-07-15T07:44:11.129128Z",
     "iopub.status.idle": "2025-07-15T07:44:11.132701Z",
     "shell.execute_reply": "2025-07-15T07:44:11.132110Z"
    },
    "papermill": {
     "duration": 0.148448,
     "end_time": "2025-07-15T07:44:11.133674",
     "exception": false,
     "start_time": "2025-07-15T07:44:10.985226",
     "status": "completed"
    },
    "tags": []
   },
   "outputs": [],
   "source": [
    "test_labels = [CFG.label2name[p] for p in test_preds]\n"
   ]
  },
  {
   "cell_type": "code",
   "execution_count": 14,
   "id": "1e3b34e4",
   "metadata": {
    "execution": {
     "iopub.execute_input": "2025-07-15T07:44:11.423328Z",
     "iopub.status.busy": "2025-07-15T07:44:11.422560Z",
     "iopub.status.idle": "2025-07-15T07:44:11.431695Z",
     "shell.execute_reply": "2025-07-15T07:44:11.431082Z"
    },
    "papermill": {
     "duration": 0.155518,
     "end_time": "2025-07-15T07:44:11.432963",
     "exception": false,
     "start_time": "2025-07-15T07:44:11.277445",
     "status": "completed"
    },
    "tags": []
   },
   "outputs": [],
   "source": [
    "submission = pd.DataFrame({\n",
    "    \"id\": test_df[\"id\"],\n",
    "    \"winner\": test_labels\n",
    "})\n",
    "submission.to_csv(\"submission.csv\", index=False)\n"
   ]
  }
 ],
 "metadata": {
  "kaggle": {
   "accelerator": "gpu",
   "dataSources": [
    {
     "databundleVersionId": 9809560,
     "sourceId": 86518,
     "sourceType": "competition"
    },
    {
     "modelId": 2820,
     "modelInstanceId": 4684,
     "sourceId": 6063,
     "sourceType": "modelInstanceVersion"
    },
    {
     "modelId": 2820,
     "modelInstanceId": 4686,
     "sourceId": 6065,
     "sourceType": "modelInstanceVersion"
    }
   ],
   "dockerImageVersionId": 31090,
   "isGpuEnabled": true,
   "isInternetEnabled": false,
   "language": "python",
   "sourceType": "notebook"
  },
  "kernelspec": {
   "display_name": "Python 3",
   "language": "python",
   "name": "python3"
  },
  "language_info": {
   "codemirror_mode": {
    "name": "ipython",
    "version": 3
   },
   "file_extension": ".py",
   "mimetype": "text/x-python",
   "name": "python",
   "nbconvert_exporter": "python",
   "pygments_lexer": "ipython3",
   "version": "3.11.13"
  },
  "papermill": {
   "default_parameters": {},
   "duration": 8670.12164,
   "end_time": "2025-07-15T07:44:15.169009",
   "environment_variables": {},
   "exception": null,
   "input_path": "__notebook__.ipynb",
   "output_path": "__notebook__.ipynb",
   "parameters": {},
   "start_time": "2025-07-15T05:19:45.047369",
   "version": "2.6.0"
  }
 },
 "nbformat": 4,
 "nbformat_minor": 5
}
